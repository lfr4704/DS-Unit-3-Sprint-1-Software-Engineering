{
  "nbformat": 4,
  "nbformat_minor": 0,
  "metadata": {
    "colab": {
      "name": "my_python_module.ipynb",
      "provenance": [],
      "collapsed_sections": [],
      "authorship_tag": "ABX9TyMGEXCZ3rEJDTwhcq4fCpWk",
      "include_colab_link": true
    },
    "kernelspec": {
      "name": "python3",
      "display_name": "Python 3"
    }
  },
  "cells": [
    {
      "cell_type": "markdown",
      "metadata": {
        "id": "view-in-github",
        "colab_type": "text"
      },
      "source": [
        "<a href=\"https://colab.research.google.com/github/lfr4704/DS-Unit-3-Sprint-1-Software-Engineering/blob/master/lambdata-dspt5/my_python_module.ipynb\" target=\"_parent\"><img src=\"https://colab.research.google.com/assets/colab-badge.svg\" alt=\"Open In Colab\"/></a>"
      ]
    },
    {
      "cell_type": "code",
      "metadata": {
        "id": "TNUKcdpHEvRD",
        "colab_type": "code",
        "colab": {
          "base_uri": "https://localhost:8080/",
          "height": 122
        },
        "outputId": "6bb712f4-ad02-4d9b-e06f-0bd8e2338487"
      },
      "source": [
        "#!pip install -i https://test.pypi.org/simple/ lfr-lambdata-pt5"
      ],
      "execution_count": 2,
      "outputs": [
        {
          "output_type": "stream",
          "text": [
            "Looking in indexes: https://test.pypi.org/simple/\n",
            "Collecting lfr-lambdata-pt5\n",
            "  Downloading https://test-files.pythonhosted.org/packages/1e/09/79462ecbdfeeda7e8dc204e99d9f7c76d0225a2fd900b7d5ba11245d6849/lfr_lambdata_pt5-1.0-py3-none-any.whl\n",
            "Installing collected packages: lfr-lambdata-pt5\n",
            "Successfully installed lfr-lambdata-pt5-1.0\n"
          ],
          "name": "stdout"
        }
      ]
    },
    {
      "cell_type": "code",
      "metadata": {
        "id": "7Y-bxkYTFXcE",
        "colab_type": "code",
        "colab": {
          "base_uri": "https://localhost:8080/",
          "height": 34
        },
        "outputId": "e618c62b-4e57-4d85-fa71-0b946a5a5c1a"
      },
      "source": [
        "from my_lambdata.my_mod import enlarge\n",
        "\n",
        "x = 11\n",
        "print(enlarge(x))"
      ],
      "execution_count": 4,
      "outputs": [
        {
          "output_type": "stream",
          "text": [
            "1100\n"
          ],
          "name": "stdout"
        }
      ]
    }
  ]
}